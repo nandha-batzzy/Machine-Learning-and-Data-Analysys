{
 "cells": [
  {
   "cell_type": "code",
   "execution_count": 25,
   "metadata": {},
   "outputs": [],
   "source": [
    "import pandas as pd\n",
    "import numpy as np\n",
    "### Parse_dates will make the data type as date index and index_col will make the Date column as date \n",
    "data = pd.read_csv('AAPL.csv',parse_dates=['Date'],index_col = 'Date') \n"
   ]
  },
  {
   "cell_type": "code",
   "execution_count": 26,
   "metadata": {},
   "outputs": [
    {
     "data": {
      "text/html": [
       "<div>\n",
       "<style scoped>\n",
       "    .dataframe tbody tr th:only-of-type {\n",
       "        vertical-align: middle;\n",
       "    }\n",
       "\n",
       "    .dataframe tbody tr th {\n",
       "        vertical-align: top;\n",
       "    }\n",
       "\n",
       "    .dataframe thead th {\n",
       "        text-align: right;\n",
       "    }\n",
       "</style>\n",
       "<table border=\"1\" class=\"dataframe\">\n",
       "  <thead>\n",
       "    <tr style=\"text-align: right;\">\n",
       "      <th></th>\n",
       "      <th>Open</th>\n",
       "      <th>High</th>\n",
       "      <th>Low</th>\n",
       "      <th>Close</th>\n",
       "      <th>Adj Close</th>\n",
       "      <th>Volume</th>\n",
       "    </tr>\n",
       "    <tr>\n",
       "      <th>Date</th>\n",
       "      <th></th>\n",
       "      <th></th>\n",
       "      <th></th>\n",
       "      <th></th>\n",
       "      <th></th>\n",
       "      <th></th>\n",
       "    </tr>\n",
       "  </thead>\n",
       "  <tbody>\n",
       "    <tr>\n",
       "      <th>2017-10-02</th>\n",
       "      <td>38.564999</td>\n",
       "      <td>38.612499</td>\n",
       "      <td>38.180000</td>\n",
       "      <td>38.452499</td>\n",
       "      <td>36.698437</td>\n",
       "      <td>74795200</td>\n",
       "    </tr>\n",
       "    <tr>\n",
       "      <th>2017-10-03</th>\n",
       "      <td>38.502499</td>\n",
       "      <td>38.772499</td>\n",
       "      <td>38.477501</td>\n",
       "      <td>38.619999</td>\n",
       "      <td>36.858284</td>\n",
       "      <td>64921200</td>\n",
       "    </tr>\n",
       "    <tr>\n",
       "      <th>2017-10-04</th>\n",
       "      <td>38.407501</td>\n",
       "      <td>38.465000</td>\n",
       "      <td>38.115002</td>\n",
       "      <td>38.369999</td>\n",
       "      <td>36.619698</td>\n",
       "      <td>80655200</td>\n",
       "    </tr>\n",
       "    <tr>\n",
       "      <th>2017-10-05</th>\n",
       "      <td>38.544998</td>\n",
       "      <td>38.860001</td>\n",
       "      <td>38.512501</td>\n",
       "      <td>38.847500</td>\n",
       "      <td>37.075413</td>\n",
       "      <td>85135200</td>\n",
       "    </tr>\n",
       "    <tr>\n",
       "      <th>2017-10-06</th>\n",
       "      <td>38.742500</td>\n",
       "      <td>38.872501</td>\n",
       "      <td>38.639999</td>\n",
       "      <td>38.825001</td>\n",
       "      <td>37.053936</td>\n",
       "      <td>69630400</td>\n",
       "    </tr>\n",
       "    <tr>\n",
       "      <th>...</th>\n",
       "      <td>...</td>\n",
       "      <td>...</td>\n",
       "      <td>...</td>\n",
       "      <td>...</td>\n",
       "      <td>...</td>\n",
       "      <td>...</td>\n",
       "    </tr>\n",
       "    <tr>\n",
       "      <th>2021-09-24</th>\n",
       "      <td>145.660004</td>\n",
       "      <td>147.470001</td>\n",
       "      <td>145.559998</td>\n",
       "      <td>146.919998</td>\n",
       "      <td>146.919998</td>\n",
       "      <td>53434200</td>\n",
       "    </tr>\n",
       "    <tr>\n",
       "      <th>2021-09-27</th>\n",
       "      <td>145.470001</td>\n",
       "      <td>145.960007</td>\n",
       "      <td>143.820007</td>\n",
       "      <td>145.369995</td>\n",
       "      <td>145.369995</td>\n",
       "      <td>74150700</td>\n",
       "    </tr>\n",
       "    <tr>\n",
       "      <th>2021-09-28</th>\n",
       "      <td>143.250000</td>\n",
       "      <td>144.750000</td>\n",
       "      <td>141.690002</td>\n",
       "      <td>141.910004</td>\n",
       "      <td>141.910004</td>\n",
       "      <td>108972300</td>\n",
       "    </tr>\n",
       "    <tr>\n",
       "      <th>2021-09-29</th>\n",
       "      <td>142.470001</td>\n",
       "      <td>144.449997</td>\n",
       "      <td>142.029999</td>\n",
       "      <td>142.830002</td>\n",
       "      <td>142.830002</td>\n",
       "      <td>74602000</td>\n",
       "    </tr>\n",
       "    <tr>\n",
       "      <th>2021-09-30</th>\n",
       "      <td>143.660004</td>\n",
       "      <td>144.380005</td>\n",
       "      <td>141.279999</td>\n",
       "      <td>141.500000</td>\n",
       "      <td>141.500000</td>\n",
       "      <td>88934200</td>\n",
       "    </tr>\n",
       "  </tbody>\n",
       "</table>\n",
       "<p>1007 rows × 6 columns</p>\n",
       "</div>"
      ],
      "text/plain": [
       "                  Open        High         Low       Close   Adj Close  \\\n",
       "Date                                                                     \n",
       "2017-10-02   38.564999   38.612499   38.180000   38.452499   36.698437   \n",
       "2017-10-03   38.502499   38.772499   38.477501   38.619999   36.858284   \n",
       "2017-10-04   38.407501   38.465000   38.115002   38.369999   36.619698   \n",
       "2017-10-05   38.544998   38.860001   38.512501   38.847500   37.075413   \n",
       "2017-10-06   38.742500   38.872501   38.639999   38.825001   37.053936   \n",
       "...                ...         ...         ...         ...         ...   \n",
       "2021-09-24  145.660004  147.470001  145.559998  146.919998  146.919998   \n",
       "2021-09-27  145.470001  145.960007  143.820007  145.369995  145.369995   \n",
       "2021-09-28  143.250000  144.750000  141.690002  141.910004  141.910004   \n",
       "2021-09-29  142.470001  144.449997  142.029999  142.830002  142.830002   \n",
       "2021-09-30  143.660004  144.380005  141.279999  141.500000  141.500000   \n",
       "\n",
       "               Volume  \n",
       "Date                   \n",
       "2017-10-02   74795200  \n",
       "2017-10-03   64921200  \n",
       "2017-10-04   80655200  \n",
       "2017-10-05   85135200  \n",
       "2017-10-06   69630400  \n",
       "...               ...  \n",
       "2021-09-24   53434200  \n",
       "2021-09-27   74150700  \n",
       "2021-09-28  108972300  \n",
       "2021-09-29   74602000  \n",
       "2021-09-30   88934200  \n",
       "\n",
       "[1007 rows x 6 columns]"
      ]
     },
     "execution_count": 26,
     "metadata": {},
     "output_type": "execute_result"
    }
   ],
   "source": [
    "data"
   ]
  },
  {
   "cell_type": "markdown",
   "metadata": {},
   "source": [
    "## Date Time Index"
   ]
  },
  {
   "cell_type": "code",
   "execution_count": 27,
   "metadata": {},
   "outputs": [
    {
     "data": {
      "text/plain": [
       "DatetimeIndex(['2017-10-02', '2017-10-03', '2017-10-04', '2017-10-05',\n",
       "               '2017-10-06', '2017-10-09', '2017-10-10', '2017-10-11',\n",
       "               '2017-10-12', '2017-10-13',\n",
       "               ...\n",
       "               '2021-09-17', '2021-09-20', '2021-09-21', '2021-09-22',\n",
       "               '2021-09-23', '2021-09-24', '2021-09-27', '2021-09-28',\n",
       "               '2021-09-29', '2021-09-30'],\n",
       "              dtype='datetime64[ns]', name='Date', length=1007, freq=None)"
      ]
     },
     "execution_count": 27,
     "metadata": {},
     "output_type": "execute_result"
    }
   ],
   "source": [
    "\n",
    "### this will give you date as index for all the rows\n",
    "data.index"
   ]
  },
  {
   "cell_type": "code",
   "execution_count": 28,
   "metadata": {},
   "outputs": [
    {
     "name": "stderr",
     "output_type": "stream",
     "text": [
      "<ipython-input-28-e16808678e45>:2: FutureWarning: Indexing a DataFrame with a datetimelike index using a single string to slice the rows, like `frame[string]`, is deprecated and will be removed in a future version. Use `frame.loc[string]` instead.\n",
      "  data['2017-10'].Close.mean()\n"
     ]
    },
    {
     "data": {
      "text/plain": [
       "39.45431813636363"
      ]
     },
     "execution_count": 28,
     "metadata": {},
     "output_type": "execute_result"
    }
   ],
   "source": [
    "# we can select the date we want to analyse as shown below\n",
    "data['2017-10'].Close.mean()"
   ]
  },
  {
   "cell_type": "code",
   "execution_count": 29,
   "metadata": {},
   "outputs": [
    {
     "data": {
      "text/html": [
       "<div>\n",
       "<style scoped>\n",
       "    .dataframe tbody tr th:only-of-type {\n",
       "        vertical-align: middle;\n",
       "    }\n",
       "\n",
       "    .dataframe tbody tr th {\n",
       "        vertical-align: top;\n",
       "    }\n",
       "\n",
       "    .dataframe thead th {\n",
       "        text-align: right;\n",
       "    }\n",
       "</style>\n",
       "<table border=\"1\" class=\"dataframe\">\n",
       "  <thead>\n",
       "    <tr style=\"text-align: right;\">\n",
       "      <th></th>\n",
       "      <th>Open</th>\n",
       "      <th>High</th>\n",
       "      <th>Low</th>\n",
       "      <th>Close</th>\n",
       "      <th>Adj Close</th>\n",
       "      <th>Volume</th>\n",
       "    </tr>\n",
       "    <tr>\n",
       "      <th>Date</th>\n",
       "      <th></th>\n",
       "      <th></th>\n",
       "      <th></th>\n",
       "      <th></th>\n",
       "      <th></th>\n",
       "      <th></th>\n",
       "    </tr>\n",
       "  </thead>\n",
       "  <tbody>\n",
       "    <tr>\n",
       "      <th>2017-10-03</th>\n",
       "      <td>38.502499</td>\n",
       "      <td>38.772499</td>\n",
       "      <td>38.477501</td>\n",
       "      <td>38.619999</td>\n",
       "      <td>36.858284</td>\n",
       "      <td>64921200</td>\n",
       "    </tr>\n",
       "    <tr>\n",
       "      <th>2017-10-04</th>\n",
       "      <td>38.407501</td>\n",
       "      <td>38.465000</td>\n",
       "      <td>38.115002</td>\n",
       "      <td>38.369999</td>\n",
       "      <td>36.619698</td>\n",
       "      <td>80655200</td>\n",
       "    </tr>\n",
       "    <tr>\n",
       "      <th>2017-10-05</th>\n",
       "      <td>38.544998</td>\n",
       "      <td>38.860001</td>\n",
       "      <td>38.512501</td>\n",
       "      <td>38.847500</td>\n",
       "      <td>37.075413</td>\n",
       "      <td>85135200</td>\n",
       "    </tr>\n",
       "    <tr>\n",
       "      <th>2017-10-06</th>\n",
       "      <td>38.742500</td>\n",
       "      <td>38.872501</td>\n",
       "      <td>38.639999</td>\n",
       "      <td>38.825001</td>\n",
       "      <td>37.053936</td>\n",
       "      <td>69630400</td>\n",
       "    </tr>\n",
       "    <tr>\n",
       "      <th>2017-10-09</th>\n",
       "      <td>38.952499</td>\n",
       "      <td>39.182499</td>\n",
       "      <td>38.872501</td>\n",
       "      <td>38.959999</td>\n",
       "      <td>37.182781</td>\n",
       "      <td>65051600</td>\n",
       "    </tr>\n",
       "    <tr>\n",
       "      <th>...</th>\n",
       "      <td>...</td>\n",
       "      <td>...</td>\n",
       "      <td>...</td>\n",
       "      <td>...</td>\n",
       "      <td>...</td>\n",
       "      <td>...</td>\n",
       "    </tr>\n",
       "    <tr>\n",
       "      <th>2021-09-23</th>\n",
       "      <td>146.649994</td>\n",
       "      <td>147.080002</td>\n",
       "      <td>145.639999</td>\n",
       "      <td>146.830002</td>\n",
       "      <td>146.830002</td>\n",
       "      <td>64838200</td>\n",
       "    </tr>\n",
       "    <tr>\n",
       "      <th>2021-09-24</th>\n",
       "      <td>145.660004</td>\n",
       "      <td>147.470001</td>\n",
       "      <td>145.559998</td>\n",
       "      <td>146.919998</td>\n",
       "      <td>146.919998</td>\n",
       "      <td>53434200</td>\n",
       "    </tr>\n",
       "    <tr>\n",
       "      <th>2021-09-27</th>\n",
       "      <td>145.470001</td>\n",
       "      <td>145.960007</td>\n",
       "      <td>143.820007</td>\n",
       "      <td>145.369995</td>\n",
       "      <td>145.369995</td>\n",
       "      <td>74150700</td>\n",
       "    </tr>\n",
       "    <tr>\n",
       "      <th>2021-09-28</th>\n",
       "      <td>143.250000</td>\n",
       "      <td>144.750000</td>\n",
       "      <td>141.690002</td>\n",
       "      <td>141.910004</td>\n",
       "      <td>141.910004</td>\n",
       "      <td>108972300</td>\n",
       "    </tr>\n",
       "    <tr>\n",
       "      <th>2021-09-29</th>\n",
       "      <td>142.470001</td>\n",
       "      <td>144.449997</td>\n",
       "      <td>142.029999</td>\n",
       "      <td>142.830002</td>\n",
       "      <td>142.830002</td>\n",
       "      <td>74602000</td>\n",
       "    </tr>\n",
       "  </tbody>\n",
       "</table>\n",
       "<p>1005 rows × 6 columns</p>\n",
       "</div>"
      ],
      "text/plain": [
       "                  Open        High         Low       Close   Adj Close  \\\n",
       "Date                                                                     \n",
       "2017-10-03   38.502499   38.772499   38.477501   38.619999   36.858284   \n",
       "2017-10-04   38.407501   38.465000   38.115002   38.369999   36.619698   \n",
       "2017-10-05   38.544998   38.860001   38.512501   38.847500   37.075413   \n",
       "2017-10-06   38.742500   38.872501   38.639999   38.825001   37.053936   \n",
       "2017-10-09   38.952499   39.182499   38.872501   38.959999   37.182781   \n",
       "...                ...         ...         ...         ...         ...   \n",
       "2021-09-23  146.649994  147.080002  145.639999  146.830002  146.830002   \n",
       "2021-09-24  145.660004  147.470001  145.559998  146.919998  146.919998   \n",
       "2021-09-27  145.470001  145.960007  143.820007  145.369995  145.369995   \n",
       "2021-09-28  143.250000  144.750000  141.690002  141.910004  141.910004   \n",
       "2021-09-29  142.470001  144.449997  142.029999  142.830002  142.830002   \n",
       "\n",
       "               Volume  \n",
       "Date                   \n",
       "2017-10-03   64921200  \n",
       "2017-10-04   80655200  \n",
       "2017-10-05   85135200  \n",
       "2017-10-06   69630400  \n",
       "2017-10-09   65051600  \n",
       "...               ...  \n",
       "2021-09-23   64838200  \n",
       "2021-09-24   53434200  \n",
       "2021-09-27   74150700  \n",
       "2021-09-28  108972300  \n",
       "2021-09-29   74602000  \n",
       "\n",
       "[1005 rows x 6 columns]"
      ]
     },
     "execution_count": 29,
     "metadata": {},
     "output_type": "execute_result"
    }
   ],
   "source": [
    "data[\"2017-10-03\":\"2021-09-29\" ]"
   ]
  },
  {
   "cell_type": "markdown",
   "metadata": {},
   "source": [
    "## Resampling"
   ]
  },
  {
   "cell_type": "code",
   "execution_count": 32,
   "metadata": {},
   "outputs": [
    {
     "data": {
      "text/plain": [
       "Date\n",
       "2017-10-31     39.454318\n",
       "2017-11-30     43.101548\n",
       "2017-12-31     42.972875\n",
       "2018-01-31     43.501309\n",
       "2018-02-28     41.909737\n",
       "2018-03-31     43.624048\n",
       "2018-04-30     42.458572\n",
       "2018-05-31     46.384204\n",
       "2018-06-30     47.155357\n",
       "2018-07-31     47.577857\n",
       "2018-08-31     53.336522\n",
       "2018-09-30     55.518421\n",
       "2018-10-31     55.211413\n",
       "2018-11-30     47.808929\n",
       "2018-12-31     41.066579\n",
       "2019-01-31     38.541548\n",
       "2019-02-28     42.931973\n",
       "2019-03-31     45.823453\n",
       "2019-04-30     50.129048\n",
       "2019-05-31     47.818409\n",
       "2019-06-30     48.242250\n",
       "2019-07-31     51.304091\n",
       "2019-08-31     51.239432\n",
       "2019-09-30     54.498750\n",
       "2019-10-31     58.821630\n",
       "2019-11-30     65.630126\n",
       "2019-12-31     69.131428\n",
       "2020-01-31     77.979048\n",
       "2020-02-29     77.817631\n",
       "2020-03-31     65.611023\n",
       "2020-04-30     68.096547\n",
       "2020-05-31     77.496376\n",
       "2020-06-30     86.451590\n",
       "2020-07-31     95.566250\n",
       "2020-08-31    117.299762\n",
       "2020-09-30    115.125237\n",
       "2020-10-31    116.413182\n",
       "2020-11-30    116.825999\n",
       "2020-12-31    127.290455\n",
       "2021-01-31    133.036842\n",
       "2021-02-28    131.531579\n",
       "2021-03-31    121.871304\n",
       "2021-04-30    131.812858\n",
       "2021-05-31    126.784000\n",
       "2021-06-30    129.958636\n",
       "2021-07-31    145.139524\n",
       "2021-08-31    148.177727\n",
       "2021-09-30    148.306190\n",
       "Freq: M, Name: Close, dtype: float64"
      ]
     },
     "execution_count": 32,
     "metadata": {},
     "output_type": "execute_result"
    }
   ],
   "source": [
    "\n",
    "## resample method is used to aggrigate beased on month, day, year, quarter and many ways\n",
    "data.Close.resample('M').mean()"
   ]
  },
  {
   "cell_type": "code",
   "execution_count": 33,
   "metadata": {},
   "outputs": [
    {
     "data": {
      "text/plain": [
       "Date\n",
       "2017-10-08     38.623000\n",
       "2017-10-15     39.064000\n",
       "2017-10-22     39.617000\n",
       "2017-10-29     39.507001\n",
       "2017-11-05     42.163000\n",
       "                 ...    \n",
       "2021-09-05    153.081998\n",
       "2021-09-12    153.710003\n",
       "2021-09-19    148.309998\n",
       "2021-09-26    145.194000\n",
       "2021-10-03    142.902500\n",
       "Freq: W-SUN, Name: Close, Length: 209, dtype: float64"
      ]
     },
     "execution_count": 33,
     "metadata": {},
     "output_type": "execute_result"
    }
   ],
   "source": [
    "data.Close.resample('W').mean()"
   ]
  },
  {
   "cell_type": "code",
   "execution_count": 35,
   "metadata": {},
   "outputs": [
    {
     "data": {
      "text/plain": [
       "<AxesSubplot:xlabel='Date'>"
      ]
     },
     "execution_count": 35,
     "metadata": {},
     "output_type": "execute_result"
    },
    {
     "data": {
      "image/png": "[encoded data removed]",
      "text/plain": [
       "<Figure size 432x288 with 1 Axes>"
      ]
     },
     "metadata": {
      "needs_background": "light"
     },
     "output_type": "display_data"
    }
   ],
   "source": [
    "## to plot \n",
    "data.Close.resample('W').mean().plot()"
   ]
  },
  {
   "cell_type": "code",
   "execution_count": 36,
   "metadata": {},
   "outputs": [
    {
     "data": {
      "text/plain": [
       "<AxesSubplot:xlabel='Date'>"
      ]
     },
     "execution_count": 36,
     "metadata": {},
     "output_type": "execute_result"
    },
    {
     "data": {
      "image/png": "[encoded data removed]",
      "text/plain": [
       "<Figure size 432x288 with 1 Axes>"
      ]
     },
     "metadata": {
      "needs_background": "light"
     },
     "output_type": "display_data"
    }
   ],
   "source": [
    "data.Close.resample('Q').mean().plot()"
   ]
  },
  {
   "cell_type": "code",
   "execution_count": null,
   "metadata": {},
   "outputs": [],
   "source": [
    "### Visit https://pandas.pydata.org/pandas-docs/stable/user_guide/timeseries.html#dateoffset-objects"
   ]
  }
 ],
 "metadata": {
  "kernelspec": {
   "display_name": "Python 3",
   "language": "python",
   "name": "python3"
  },
  "language_info": {
   "codemirror_mode": {
    "name": "ipython",
    "version": 3
   },
   "file_extension": ".py",
   "mimetype": "text/x-python",
   "name": "python",
   "nbconvert_exporter": "python",
   "pygments_lexer": "ipython3",
   "version": "3.9.2"
  }
 },
 "nbformat": 4,
 "nbformat_minor": 4
}
