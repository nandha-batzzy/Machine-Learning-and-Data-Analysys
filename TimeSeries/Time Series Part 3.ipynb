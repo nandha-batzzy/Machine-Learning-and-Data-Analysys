{
 "cells": [
  {
   "cell_type": "code",
   "execution_count": 74,
   "metadata": {},
   "outputs": [],
   "source": [
    "import pandas as pd\n",
    "import numpy as np"
   ]
  },
  {
   "cell_type": "code",
   "execution_count": 75,
   "metadata": {},
   "outputs": [],
   "source": [
    "### handling holidays in the date"
   ]
  },
  {
   "cell_type": "code",
   "execution_count": 76,
   "metadata": {},
   "outputs": [
    {
     "name": "stderr",
     "output_type": "stream",
     "text": [
      "C:\\Python 38\\lib\\site-packages\\pandas\\core\\frame.py:4901: SettingWithCopyWarning: \n",
      "A value is trying to be set on a copy of a slice from a DataFrame\n",
      "\n",
      "See the caveats in the documentation: https://pandas.pydata.org/pandas-docs/stable/user_guide/indexing.html#returning-a-view-versus-a-copy\n",
      "  return super().drop(\n"
     ]
    }
   ],
   "source": [
    "df = pd.read_csv(\"AAPL.csv\")\n",
    "data = df[:13]\n",
    "data.drop('Date',axis=1,inplace=True)"
   ]
  },
  {
   "cell_type": "code",
   "execution_count": 77,
   "metadata": {},
   "outputs": [
    {
     "data": {
      "text/html": [
       "<div>\n",
       "<style scoped>\n",
       "    .dataframe tbody tr th:only-of-type {\n",
       "        vertical-align: middle;\n",
       "    }\n",
       "\n",
       "    .dataframe tbody tr th {\n",
       "        vertical-align: top;\n",
       "    }\n",
       "\n",
       "    .dataframe thead th {\n",
       "        text-align: right;\n",
       "    }\n",
       "</style>\n",
       "<table border=\"1\" class=\"dataframe\">\n",
       "  <thead>\n",
       "    <tr style=\"text-align: right;\">\n",
       "      <th></th>\n",
       "      <th>Open</th>\n",
       "      <th>High</th>\n",
       "      <th>Low</th>\n",
       "      <th>Close</th>\n",
       "      <th>Adj Close</th>\n",
       "      <th>Volume</th>\n",
       "    </tr>\n",
       "  </thead>\n",
       "  <tbody>\n",
       "    <tr>\n",
       "      <th>0</th>\n",
       "      <td>38.564999</td>\n",
       "      <td>38.612499</td>\n",
       "      <td>38.180000</td>\n",
       "      <td>38.452499</td>\n",
       "      <td>36.698437</td>\n",
       "      <td>74795200</td>\n",
       "    </tr>\n",
       "    <tr>\n",
       "      <th>1</th>\n",
       "      <td>38.502499</td>\n",
       "      <td>38.772499</td>\n",
       "      <td>38.477501</td>\n",
       "      <td>38.619999</td>\n",
       "      <td>36.858284</td>\n",
       "      <td>64921200</td>\n",
       "    </tr>\n",
       "    <tr>\n",
       "      <th>2</th>\n",
       "      <td>38.407501</td>\n",
       "      <td>38.465000</td>\n",
       "      <td>38.115002</td>\n",
       "      <td>38.369999</td>\n",
       "      <td>36.619698</td>\n",
       "      <td>80655200</td>\n",
       "    </tr>\n",
       "    <tr>\n",
       "      <th>3</th>\n",
       "      <td>38.544998</td>\n",
       "      <td>38.860001</td>\n",
       "      <td>38.512501</td>\n",
       "      <td>38.847500</td>\n",
       "      <td>37.075413</td>\n",
       "      <td>85135200</td>\n",
       "    </tr>\n",
       "    <tr>\n",
       "      <th>4</th>\n",
       "      <td>38.742500</td>\n",
       "      <td>38.872501</td>\n",
       "      <td>38.639999</td>\n",
       "      <td>38.825001</td>\n",
       "      <td>37.053936</td>\n",
       "      <td>69630400</td>\n",
       "    </tr>\n",
       "    <tr>\n",
       "      <th>5</th>\n",
       "      <td>38.952499</td>\n",
       "      <td>39.182499</td>\n",
       "      <td>38.872501</td>\n",
       "      <td>38.959999</td>\n",
       "      <td>37.182781</td>\n",
       "      <td>65051600</td>\n",
       "    </tr>\n",
       "    <tr>\n",
       "      <th>6</th>\n",
       "      <td>39.014999</td>\n",
       "      <td>39.500000</td>\n",
       "      <td>38.775002</td>\n",
       "      <td>38.974998</td>\n",
       "      <td>37.197090</td>\n",
       "      <td>62468000</td>\n",
       "    </tr>\n",
       "    <tr>\n",
       "      <th>7</th>\n",
       "      <td>38.992500</td>\n",
       "      <td>39.244999</td>\n",
       "      <td>38.937500</td>\n",
       "      <td>39.137501</td>\n",
       "      <td>37.352192</td>\n",
       "      <td>67622400</td>\n",
       "    </tr>\n",
       "    <tr>\n",
       "      <th>8</th>\n",
       "      <td>39.087502</td>\n",
       "      <td>39.342499</td>\n",
       "      <td>38.932499</td>\n",
       "      <td>39.000000</td>\n",
       "      <td>37.220951</td>\n",
       "      <td>64500400</td>\n",
       "    </tr>\n",
       "    <tr>\n",
       "      <th>9</th>\n",
       "      <td>39.182499</td>\n",
       "      <td>39.320000</td>\n",
       "      <td>39.102501</td>\n",
       "      <td>39.247501</td>\n",
       "      <td>37.457165</td>\n",
       "      <td>65576800</td>\n",
       "    </tr>\n",
       "    <tr>\n",
       "      <th>10</th>\n",
       "      <td>39.474998</td>\n",
       "      <td>40.000000</td>\n",
       "      <td>39.412498</td>\n",
       "      <td>39.970001</td>\n",
       "      <td>38.146709</td>\n",
       "      <td>96486000</td>\n",
       "    </tr>\n",
       "    <tr>\n",
       "      <th>11</th>\n",
       "      <td>39.945000</td>\n",
       "      <td>40.217499</td>\n",
       "      <td>39.807499</td>\n",
       "      <td>40.117500</td>\n",
       "      <td>38.287479</td>\n",
       "      <td>75989200</td>\n",
       "    </tr>\n",
       "    <tr>\n",
       "      <th>12</th>\n",
       "      <td>40.105000</td>\n",
       "      <td>40.177502</td>\n",
       "      <td>39.900002</td>\n",
       "      <td>39.939999</td>\n",
       "      <td>38.118073</td>\n",
       "      <td>65496800</td>\n",
       "    </tr>\n",
       "  </tbody>\n",
       "</table>\n",
       "</div>"
      ],
      "text/plain": [
       "         Open       High        Low      Close  Adj Close    Volume\n",
       "0   38.564999  38.612499  38.180000  38.452499  36.698437  74795200\n",
       "1   38.502499  38.772499  38.477501  38.619999  36.858284  64921200\n",
       "2   38.407501  38.465000  38.115002  38.369999  36.619698  80655200\n",
       "3   38.544998  38.860001  38.512501  38.847500  37.075413  85135200\n",
       "4   38.742500  38.872501  38.639999  38.825001  37.053936  69630400\n",
       "5   38.952499  39.182499  38.872501  38.959999  37.182781  65051600\n",
       "6   39.014999  39.500000  38.775002  38.974998  37.197090  62468000\n",
       "7   38.992500  39.244999  38.937500  39.137501  37.352192  67622400\n",
       "8   39.087502  39.342499  38.932499  39.000000  37.220951  64500400\n",
       "9   39.182499  39.320000  39.102501  39.247501  37.457165  65576800\n",
       "10  39.474998  40.000000  39.412498  39.970001  38.146709  96486000\n",
       "11  39.945000  40.217499  39.807499  40.117500  38.287479  75989200\n",
       "12  40.105000  40.177502  39.900002  39.939999  38.118073  65496800"
      ]
     },
     "execution_count": 77,
     "metadata": {},
     "output_type": "execute_result"
    }
   ],
   "source": [
    "data"
   ]
  },
  {
   "cell_type": "code",
   "execution_count": 78,
   "metadata": {},
   "outputs": [
    {
     "data": {
      "text/plain": [
       "DatetimeIndex(['2017-07-03', '2017-07-04', '2017-07-05', '2017-07-06',\n",
       "               '2017-07-07', '2017-07-10', '2017-07-11', '2017-07-12',\n",
       "               '2017-07-13', '2017-07-14', '2017-07-17', '2017-07-18',\n",
       "               '2017-07-19', '2017-07-20'],\n",
       "              dtype='datetime64[ns]', freq='B')"
      ]
     },
     "execution_count": 78,
     "metadata": {},
     "output_type": "execute_result"
    }
   ],
   "source": [
    "###If we need to and date we use date range\n",
    "\n",
    "pd.date_range(start='07/01/2017',end='07/20/2017',freq='B')"
   ]
  },
  {
   "cell_type": "code",
   "execution_count": 79,
   "metadata": {},
   "outputs": [],
   "source": [
    "##to get the holidays in US\n",
    "from pandas.tseries.holiday import USFederalHolidayCalendar\n",
    "from pandas.tseries.offsets import CustomBusinessDay\n",
    "\n",
    "usb = CustomBusinessDay(calendar = USFederalHolidayCalendar())"
   ]
  },
  {
   "cell_type": "code",
   "execution_count": 80,
   "metadata": {},
   "outputs": [
    {
     "data": {
      "text/plain": [
       "DatetimeIndex(['2017-07-03', '2017-07-05', '2017-07-06', '2017-07-07',\n",
       "               '2017-07-10', '2017-07-11', '2017-07-12', '2017-07-13',\n",
       "               '2017-07-14', '2017-07-17', '2017-07-18', '2017-07-19',\n",
       "               '2017-07-20'],\n",
       "              dtype='datetime64[ns]', freq='C')"
      ]
     },
     "execution_count": 80,
     "metadata": {},
     "output_type": "execute_result"
    }
   ],
   "source": [
    "pd.date_range(start='07/01/2017',end='07/20/2017',freq=usb)"
   ]
  },
  {
   "cell_type": "code",
   "execution_count": 81,
   "metadata": {},
   "outputs": [],
   "source": [
    "##now we can use this usb in the freq of date range\n",
    "date = pd.date_range(start='07/01/2017',end='07/20/2017',freq=usb)"
   ]
  },
  {
   "cell_type": "markdown",
   "metadata": {},
   "source": [
    "from the above we can see 4th of july is a US holiday thus the date is not recorded"
   ]
  },
  {
   "cell_type": "code",
   "execution_count": 82,
   "metadata": {},
   "outputs": [],
   "source": [
    "data.set_index(date,inplace=True)"
   ]
  },
  {
   "cell_type": "code",
   "execution_count": 83,
   "metadata": {},
   "outputs": [
    {
     "data": {
      "text/html": [
       "<div>\n",
       "<style scoped>\n",
       "    .dataframe tbody tr th:only-of-type {\n",
       "        vertical-align: middle;\n",
       "    }\n",
       "\n",
       "    .dataframe tbody tr th {\n",
       "        vertical-align: top;\n",
       "    }\n",
       "\n",
       "    .dataframe thead th {\n",
       "        text-align: right;\n",
       "    }\n",
       "</style>\n",
       "<table border=\"1\" class=\"dataframe\">\n",
       "  <thead>\n",
       "    <tr style=\"text-align: right;\">\n",
       "      <th></th>\n",
       "      <th>Open</th>\n",
       "      <th>High</th>\n",
       "      <th>Low</th>\n",
       "      <th>Close</th>\n",
       "      <th>Adj Close</th>\n",
       "      <th>Volume</th>\n",
       "    </tr>\n",
       "  </thead>\n",
       "  <tbody>\n",
       "    <tr>\n",
       "      <th>2017-07-03</th>\n",
       "      <td>38.564999</td>\n",
       "      <td>38.612499</td>\n",
       "      <td>38.180000</td>\n",
       "      <td>38.452499</td>\n",
       "      <td>36.698437</td>\n",
       "      <td>74795200</td>\n",
       "    </tr>\n",
       "    <tr>\n",
       "      <th>2017-07-05</th>\n",
       "      <td>38.502499</td>\n",
       "      <td>38.772499</td>\n",
       "      <td>38.477501</td>\n",
       "      <td>38.619999</td>\n",
       "      <td>36.858284</td>\n",
       "      <td>64921200</td>\n",
       "    </tr>\n",
       "    <tr>\n",
       "      <th>2017-07-06</th>\n",
       "      <td>38.407501</td>\n",
       "      <td>38.465000</td>\n",
       "      <td>38.115002</td>\n",
       "      <td>38.369999</td>\n",
       "      <td>36.619698</td>\n",
       "      <td>80655200</td>\n",
       "    </tr>\n",
       "    <tr>\n",
       "      <th>2017-07-07</th>\n",
       "      <td>38.544998</td>\n",
       "      <td>38.860001</td>\n",
       "      <td>38.512501</td>\n",
       "      <td>38.847500</td>\n",
       "      <td>37.075413</td>\n",
       "      <td>85135200</td>\n",
       "    </tr>\n",
       "    <tr>\n",
       "      <th>2017-07-10</th>\n",
       "      <td>38.742500</td>\n",
       "      <td>38.872501</td>\n",
       "      <td>38.639999</td>\n",
       "      <td>38.825001</td>\n",
       "      <td>37.053936</td>\n",
       "      <td>69630400</td>\n",
       "    </tr>\n",
       "    <tr>\n",
       "      <th>2017-07-11</th>\n",
       "      <td>38.952499</td>\n",
       "      <td>39.182499</td>\n",
       "      <td>38.872501</td>\n",
       "      <td>38.959999</td>\n",
       "      <td>37.182781</td>\n",
       "      <td>65051600</td>\n",
       "    </tr>\n",
       "    <tr>\n",
       "      <th>2017-07-12</th>\n",
       "      <td>39.014999</td>\n",
       "      <td>39.500000</td>\n",
       "      <td>38.775002</td>\n",
       "      <td>38.974998</td>\n",
       "      <td>37.197090</td>\n",
       "      <td>62468000</td>\n",
       "    </tr>\n",
       "    <tr>\n",
       "      <th>2017-07-13</th>\n",
       "      <td>38.992500</td>\n",
       "      <td>39.244999</td>\n",
       "      <td>38.937500</td>\n",
       "      <td>39.137501</td>\n",
       "      <td>37.352192</td>\n",
       "      <td>67622400</td>\n",
       "    </tr>\n",
       "    <tr>\n",
       "      <th>2017-07-14</th>\n",
       "      <td>39.087502</td>\n",
       "      <td>39.342499</td>\n",
       "      <td>38.932499</td>\n",
       "      <td>39.000000</td>\n",
       "      <td>37.220951</td>\n",
       "      <td>64500400</td>\n",
       "    </tr>\n",
       "    <tr>\n",
       "      <th>2017-07-17</th>\n",
       "      <td>39.182499</td>\n",
       "      <td>39.320000</td>\n",
       "      <td>39.102501</td>\n",
       "      <td>39.247501</td>\n",
       "      <td>37.457165</td>\n",
       "      <td>65576800</td>\n",
       "    </tr>\n",
       "    <tr>\n",
       "      <th>2017-07-18</th>\n",
       "      <td>39.474998</td>\n",
       "      <td>40.000000</td>\n",
       "      <td>39.412498</td>\n",
       "      <td>39.970001</td>\n",
       "      <td>38.146709</td>\n",
       "      <td>96486000</td>\n",
       "    </tr>\n",
       "    <tr>\n",
       "      <th>2017-07-19</th>\n",
       "      <td>39.945000</td>\n",
       "      <td>40.217499</td>\n",
       "      <td>39.807499</td>\n",
       "      <td>40.117500</td>\n",
       "      <td>38.287479</td>\n",
       "      <td>75989200</td>\n",
       "    </tr>\n",
       "    <tr>\n",
       "      <th>2017-07-20</th>\n",
       "      <td>40.105000</td>\n",
       "      <td>40.177502</td>\n",
       "      <td>39.900002</td>\n",
       "      <td>39.939999</td>\n",
       "      <td>38.118073</td>\n",
       "      <td>65496800</td>\n",
       "    </tr>\n",
       "  </tbody>\n",
       "</table>\n",
       "</div>"
      ],
      "text/plain": [
       "                 Open       High        Low      Close  Adj Close    Volume\n",
       "2017-07-03  38.564999  38.612499  38.180000  38.452499  36.698437  74795200\n",
       "2017-07-05  38.502499  38.772499  38.477501  38.619999  36.858284  64921200\n",
       "2017-07-06  38.407501  38.465000  38.115002  38.369999  36.619698  80655200\n",
       "2017-07-07  38.544998  38.860001  38.512501  38.847500  37.075413  85135200\n",
       "2017-07-10  38.742500  38.872501  38.639999  38.825001  37.053936  69630400\n",
       "2017-07-11  38.952499  39.182499  38.872501  38.959999  37.182781  65051600\n",
       "2017-07-12  39.014999  39.500000  38.775002  38.974998  37.197090  62468000\n",
       "2017-07-13  38.992500  39.244999  38.937500  39.137501  37.352192  67622400\n",
       "2017-07-14  39.087502  39.342499  38.932499  39.000000  37.220951  64500400\n",
       "2017-07-17  39.182499  39.320000  39.102501  39.247501  37.457165  65576800\n",
       "2017-07-18  39.474998  40.000000  39.412498  39.970001  38.146709  96486000\n",
       "2017-07-19  39.945000  40.217499  39.807499  40.117500  38.287479  75989200\n",
       "2017-07-20  40.105000  40.177502  39.900002  39.939999  38.118073  65496800"
      ]
     },
     "execution_count": 83,
     "metadata": {},
     "output_type": "execute_result"
    }
   ],
   "source": [
    "data"
   ]
  },
  {
   "cell_type": "markdown",
   "metadata": {},
   "source": [
    "### If we want to create a coustom calender holiday"
   ]
  },
  {
   "cell_type": "code",
   "execution_count": 93,
   "metadata": {},
   "outputs": [
    {
     "data": {
      "text/plain": [
       "<CustomBusinessDay>"
      ]
     },
     "execution_count": 93,
     "metadata": {},
     "output_type": "execute_result"
    }
   ],
   "source": [
    "\n",
    "from pandas.tseries.holiday import Holiday,AbstractHolidayCalendar,nearest_workday\n",
    "\n",
    "def myholiday(AbstractHolidayCalendar):\n",
    "    rules = [\n",
    "        Holiday('vinayagar chadhurthi',month =7,day=3,observance=nearest_workday)#observance will fliter date according to the criteria we give\n",
    "    ]\n",
    "    \n",
    "ust = CustomBusinessDay(calendar = myholiday(AbstractHolidayCalendar))\n",
    "ust"
   ]
  },
  {
   "cell_type": "code",
   "execution_count": 94,
   "metadata": {},
   "outputs": [
    {
     "data": {
      "text/plain": [
       "DatetimeIndex(['2017-07-03', '2017-07-04', '2017-07-05', '2017-07-06',\n",
       "               '2017-07-07', '2017-07-10', '2017-07-11', '2017-07-12',\n",
       "               '2017-07-13', '2017-07-14', '2017-07-17', '2017-07-18',\n",
       "               '2017-07-19', '2017-07-20'],\n",
       "              dtype='datetime64[ns]', freq='C')"
      ]
     },
     "execution_count": 94,
     "metadata": {},
     "output_type": "execute_result"
    }
   ],
   "source": [
    "date = pd.date_range(start='07/01/2017',end='07/20/2017',freq=ust)\n",
    "date"
   ]
  },
  {
   "cell_type": "code",
   "execution_count": 95,
   "metadata": {},
   "outputs": [],
   "source": [
    "## we can also filter based on the day we want \n",
    "da = CustomBusinessDay(weekmask = 'Sun Mon Tue Wed Thu',holidays = [\"2017-07-04\"])\n",
    "date = pd.date_range(start='07/01/2017',end='07/20/2017',freq=da)"
   ]
  },
  {
   "cell_type": "code",
   "execution_count": 96,
   "metadata": {},
   "outputs": [
    {
     "data": {
      "text/plain": [
       "DatetimeIndex(['2017-07-02', '2017-07-03', '2017-07-05', '2017-07-06',\n",
       "               '2017-07-09', '2017-07-10', '2017-07-11', '2017-07-12',\n",
       "               '2017-07-13', '2017-07-16', '2017-07-17', '2017-07-18',\n",
       "               '2017-07-19', '2017-07-20'],\n",
       "              dtype='datetime64[ns]', freq='C')"
      ]
     },
     "execution_count": 96,
     "metadata": {},
     "output_type": "execute_result"
    }
   ],
   "source": [
    "date"
   ]
  },
  {
   "cell_type": "markdown",
   "metadata": {},
   "source": [
    "this will give only the reqiured we days we mentioned"
   ]
  },
  {
   "cell_type": "markdown",
   "metadata": {},
   "source": [
    "and the holiday will remove the specific day we mention"
   ]
  },
  {
   "cell_type": "code",
   "execution_count": null,
   "metadata": {},
   "outputs": [],
   "source": []
  }
 ],
 "metadata": {
  "kernelspec": {
   "display_name": "Python 3",
   "language": "python",
   "name": "python3"
  },
  "language_info": {
   "codemirror_mode": {
    "name": "ipython",
    "version": 3
   },
   "file_extension": ".py",
   "mimetype": "text/x-python",
   "name": "python",
   "nbconvert_exporter": "python",
   "pygments_lexer": "ipython3",
   "version": "3.9.2"
  }
 },
 "nbformat": 4,
 "nbformat_minor": 4
}
